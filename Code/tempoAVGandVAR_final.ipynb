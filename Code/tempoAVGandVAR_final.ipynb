{
  "nbformat": 4,
  "nbformat_minor": 0,
  "metadata": {
    "colab": {
      "name": "tempoAVGandVAR_final.ipynb",
      "version": "0.3.2",
      "provenance": [],
      "collapsed_sections": []
    },
    "kernelspec": {
      "name": "python3",
      "display_name": "Python 3"
    }
  },
  "cells": [
    {
      "cell_type": "code",
      "metadata": {
        "id": "jqlVvperQcid",
        "colab_type": "code",
        "outputId": "f8bb5e07-9c80-4ea7-917b-a66bb3ef13c0",
        "colab": {
          "base_uri": "https://localhost:8080/",
          "height": 122
        }
      },
      "source": [
        "#yanking this primo code from Shandy.\n",
        "import csv\n",
        "from os import listdir\n",
        "from random import randint\n",
        "import numpy as np\n",
        "import matplotlib.pyplot as plt\n",
        "import librosa\n",
        "import librosa.display\n",
        "import time\n",
        "\n",
        "POP_SONGS_PATH_TOP = '/content/drive/My Drive/audio/NonProg/TopOfThePops/Top Of The Pops/'\n",
        "POP_SONGS_PATH_OTHER = '/content/drive/My Drive/audio/NonProg/Other Songs/'\n",
        "POP_SONGS_PATH_ADDITIONAL_POP_SONGS = '/content/drive/My Drive/audio/NonProg/Additional Pop Songs/'\n",
        "PROG_SONGS_PATH = '/content/drive/My Drive/audio/Prog/Progressive Rock Songs/'\n",
        "SONG_SEGMENT_SIZE = 240 # in seconds\n",
        "POP_CSV_FILE_NAME = '/content/drive/My Drive/audio/popMissingSongsFormatted.csv'\n",
        "PROG_CSV_FILE_NAME = '/content/drive/My Drive/audio/progTempoAVGandVAR.csv'\n",
        "FULL_POP_CSV_FILE_NAME = '/content/drive/My Drive/audio/fullPop.csv'\n",
        "\n",
        "VALIDATION_SET_PROG = '/content/drive/My Drive/audio/Validation Set/Prog/'\n",
        "VALIDATION_SET_POP = '/content/drive/My Drive/audio/Validation Set/Non-Prog/'\n",
        "VALIDATION_CSV_FILENAME = '/content/drive/My Drive/audio/validation_set.csv'\n",
        "\n",
        "NUM_SONGS = 2\n",
        "SEGMENT_LENGTH_SEC = 20\n",
        "\n",
        "from google.colab import drive\n",
        "\n",
        "# This will prompt for authorization.\n",
        "drive.mount('/content/drive/')\n",
        "\n",
        "# Get list of pop songs\n",
        "pop1 = listdir(POP_SONGS_PATH_TOP)\n",
        "pop2 = listdir(POP_SONGS_PATH_OTHER)\n",
        "pop3 = listdir(POP_SONGS_PATH_ADDITIONAL_POP_SONGS)\n",
        "\n",
        "vprog = listdir(VALIDATION_SET_PROG)\n",
        "vpop  = listdir(VALIDATION_SET_POP)\n",
        "\n",
        "#popSongs = listdir(POP_SONGS_PATH)\n",
        "progSongs = listdir(PROG_SONGS_PATH)\n",
        "\n",
        "#print(popSongs)"
      ],
      "execution_count": 0,
      "outputs": [
        {
          "output_type": "stream",
          "text": [
            "Go to this URL in a browser: https://accounts.google.com/o/oauth2/auth?client_id=947318989803-6bn6qk8qdgf4n4g3pfee6491hc0brc4i.apps.googleusercontent.com&redirect_uri=urn%3Aietf%3Awg%3Aoauth%3A2.0%3Aoob&scope=email%20https%3A%2F%2Fwww.googleapis.com%2Fauth%2Fdocs.test%20https%3A%2F%2Fwww.googleapis.com%2Fauth%2Fdrive%20https%3A%2F%2Fwww.googleapis.com%2Fauth%2Fdrive.photos.readonly%20https%3A%2F%2Fwww.googleapis.com%2Fauth%2Fpeopleapi.readonly&response_type=code\n",
            "\n",
            "Enter your authorization code:\n",
            "··········\n",
            "Mounted at /content/drive/\n"
          ],
          "name": "stdout"
        }
      ]
    },
    {
      "cell_type": "code",
      "metadata": {
        "id": "sLOj2tpvoN6L",
        "colab_type": "code",
        "colab": {}
      },
      "source": [
        "#super cute logging function\n",
        "def log(genre, songs, avg, var):\n",
        "  if genre == \"POP\":\n",
        "    #with open(POP_CSV_FILE_NAME, \"a\", newline='') as csvfile:\n",
        "    with open(VALIDATION_CSV_FILENAME, \"a\", newline='') as csvfile:\n",
        "        writer = csv.writer(csvfile)\n",
        "        for i in range(len(songs)):\n",
        "            writer.writerow([genre, songs[i], avg[i], var[i]])\n",
        "    print(genre + \" songs logged in csv file...\")\n",
        "  else:\n",
        "    if genre == \"PROG\":\n",
        "      with open(PROG_CSV_FILE_NAME, \"a\", newline='') as csvfile:\n",
        "          writer = csv.writer(csvfile)\n",
        "          for i in range(len(songs)):\n",
        "              writer.writerow([genre, songs[i], avg[i], var[i]])\n",
        "      print(genre + \" songs logged in csv file...\")\n",
        "  return\n",
        "\n",
        "#extract the tempo and var for a particular song\n",
        "def get_avg_and_var_tempo(song_data, sample_rate):\n",
        "  tempo = []\n",
        "  beat_frames = []\n",
        "  num_slice_samples = SEGMENT_LENGTH_SEC*sample_rate\n",
        "  num_song_segments = int(np.floor(song_data.shape[0]/(num_slice_samples)))\n",
        "  print(\"number of song segments is  = \", num_song_segments)\n",
        "  for i in range(0,num_song_segments):\n",
        "    tempo_slice, beat_frames_slice = librosa.beat.beat_track(y=song_data[i*num_slice_samples: i*num_slice_samples+num_slice_samples], sr=sample_rate)\n",
        "    tempo.append(tempo_slice)\n",
        "    beat_frames.append(beat_frames_slice)\n",
        "  tempo = np.array(tempo)\n",
        "  librosa.beat.beat_track(y=song_data, sr=sample_rate)\n",
        "  return np.mean(tempo), np.var(tempo)"
      ],
      "execution_count": 0,
      "outputs": []
    },
    {
      "cell_type": "code",
      "metadata": {
        "id": "ergMye3H5apM",
        "colab_type": "code",
        "outputId": "29eba216-91f1-42bd-eee1-e7fd3c969c60",
        "colab": {
          "base_uri": "https://localhost:8080/",
          "height": 54
        }
      },
      "source": [
        "#code to actually run the algorithm to extract the feature\n",
        "\n",
        "pop1_songs = [POP_SONGS_PATH_TOP + song for song in pop1]\n",
        "pop2_songs = [POP_SONGS_PATH_OTHER + song for song in pop2]\n",
        "pop3_songs = [POP_SONGS_PATH_ADDITIONAL_POP_SONGS + song for song in pop3]\n",
        "vprog_songs= [VALIDATION_SET_PROG + song for song in vprog]\n",
        "vpop_songs = [VALIDATION_SET_POP + song for song in vpop]\n",
        "popSongs = []\n",
        "\n",
        "popSongs = pop1_songs + pop2_songs + pop3_songs\n",
        "#print(pop3_songs)\n",
        "#for i in range(15,0,-1):\n",
        "#  popSongs.append(pop3_songs[-i])\n",
        "#popSongs.append(POP_SONGS_PATH_OTHER + \"rasme-asheghi.mp3\")\n",
        "#print(popSongs)\n",
        "#print(len(popSongs))\n",
        "fullPopOut = []\n",
        "songNames = []\n",
        "#print(progSongs)\n",
        "\n",
        "# Select a sample of 10 pop songs\n",
        "#pop_samples = []\n",
        "#prog_samples = []\n",
        "#for _ in range(NUM_SONGS):\n",
        "#    pop_samples.append(popSongs[randint(0, len(popSongs) - 1)])\n",
        "#    prog_samples.append(progSongs[randint(0, len(progSongs) - 1)])\n",
        "\n",
        "#build validation set features\n",
        "#popSongs = vprog_songs + vpop_songs\n",
        "\n",
        "avgList = []\n",
        "varList = []\n",
        "\n",
        "#for song in pop_samples:\n",
        "for i, song in enumerate(popSongs):\n",
        "  print(i, song)\n",
        "  song_data , sample_rate = librosa.load(song)\n",
        "  \n",
        "  #seperate harmonic from percusive\n",
        "  harmonic, percussive = librosa.effects.hpss(song_data)\n",
        "  \n",
        "  #get tempo avg and variance containers\n",
        "  avg, var = get_avg_and_var_tempo(percussive, sample_rate)\n",
        "  avgList.append(avg)\n",
        "  varList.append(var)\n",
        "  fullPopOut.append([song.split('/')[-1], avg, var])\n",
        "  songNames.append(song.split('/')[-1])\n",
        "  print(fullPopOut[-1])\n",
        "\n",
        "np.save(\"/content/drive/My Drive/audio/fullpopAvgListOut2.npy\",avgList)\n",
        "np.save(\"/content/drive/My Drive/audio/fullpopVarListOut2.npy\",varList)\n",
        "log(\"POP\", songNames, avgList, varList)\n",
        "np.save(\"/content/drive/My Drive/audio/validationBackup.npy\", np.array(fullPopOut))\n",
        "log(\"POP\", pop_samples, avgList, varList)\n",
        "\n",
        "avgList = []\n",
        "varList = []\n",
        "#for song in prog_samples:\n",
        "for song in progSongs:\n",
        "  if song[-3:] != \"mp3\":\n",
        "    continue\n",
        "  print(PROG_SONGS_PATH + song)\n",
        "  song_data , sample_rate = librosa.load(PROG_SONGS_PATH + song)\n",
        "  \n",
        "  #seperate harmonic from percusive\n",
        "  harmonic, percussive = librosa.effects.hpss(song_data)\n",
        "  \n",
        "  #get tempo avg and variance containers\n",
        "  avg, var = get_avg_and_var_tempo(percussive, sample_rate)\n",
        "  avgList.append(avg)\n",
        "  varList.append(var)\n",
        "np.save(\"/content/drive/My Drive/audio/progAvgListOut2.npy\",avgList)\n",
        "np.save(\"/content/drive/My Drive/audio/progVarListOut2.npy\",varList)\n",
        "log(\"PROG\", progSongs, avgList, varList)\n",
        "#log(\"PROG\", prog_samples, avgList, varList)\n",
        "\n"
      ],
      "execution_count": 0,
      "outputs": [
        {
          "output_type": "execute_result",
          "data": {
            "text/plain": [
              "'avgList = []\\nvarList = []\\n#for song in prog_samples:\\nfor song in progSongs:\\n  if song[-3:] != \"mp3\":\\n    continue\\n  print(PROG_SONGS_PATH + song)\\n  song_data , sample_rate = librosa.load(PROG_SONGS_PATH + song)\\n  \\n  #seperate harmonic from percusive\\n  harmonic, percussive = librosa.effects.hpss(song_data)\\n  \\n  #get tempo avg and variance containers\\n  avg, var = get_avg_and_var_tempo(percussive, sample_rate)\\n  avgList.append(avg)\\n  varList.append(var)\\nnp.save(\"/content/drive/My Drive/audio/progAvgListOut2.npy\",avgList)\\nnp.save(\"/content/drive/My Drive/audio/progVarListOut2.npy\",varList)\\nlog(\"PROG\", progSongs, avgList, varList)'"
            ]
          },
          "metadata": {
            "tags": []
          },
          "execution_count": 3
        }
      ]
    },
    {
      "cell_type": "code",
      "metadata": {
        "id": "cBdO23lhbNBC",
        "colab_type": "code",
        "outputId": "5a583e2f-4f67-42ec-a08b-e0a618943bbc",
        "colab": {
          "base_uri": "https://localhost:8080/",
          "height": 122
        }
      },
      "source": [
        "#generate plot data\n",
        "\n",
        "'''progVar = np.load(\"/content/drive/My Drive/audio/varListOut.npy\")\n",
        "progAvg = np.load(\"/content/drive/My Drive/audio/avgListOut.npy\")\n",
        "popVar  = np.load(\"/content/drive/My Drive/audio/popVarListOut2.npy\")\n",
        "popAvg  = np.load(\"/content/drive/My Drive/audio/popAvgListOut2.npy\")\n",
        "print(popVar)\n",
        "print(len(popVar))\n",
        "print(progVar)\n",
        "print(len(progVar))\n",
        "f = plt.figure()\n",
        "ax = f.add_subplot(111)\n",
        "ax.scatter(np.array(progAvg), np.array(progVar), c='r',label=\"PROG\")\n",
        "ax.scatter(np.array(popAvg), np.array(popVar)+1e-8, c='b',label=\"NOT PROG\")\n",
        "ax.scatter(np.mean(np.array(progAvg)), np.mean(np.array(progVar)), c='r',marker='+', label=\"PROG_MEAN\")\n",
        "ax.scatter(np.mean(np.array(popAvg)), np.mean(np.array(popVar)), c='b',marker='+', label=\"NOT_PROG_MEAN\")\n",
        "plt.title(\"Variance of Tempo over 20s song segments\")\n",
        "plt.xlabel(\"Total AVG BPM\")\n",
        "plt.ylabel(\"BPM Variance\")\n",
        "plt.legend()\n",
        "plt.show()'''\n",
        "print(progSongs)\n",
        "print(len(progSongs))\n",
        "progAvg = np.load(\"/content/drive/My Drive/audio/progAvgListOut.npy\")\n",
        "progVar = np.load(\"/content/drive/My Drive/audio/progVarListOut.npy\")\n",
        "print(len(progAvg))\n",
        "print(len(progVar))\n",
        "log(\"PROG\", progSongs, progAvg, progVar)\n"
      ],
      "execution_count": 0,
      "outputs": [
        {
          "output_type": "stream",
          "text": [
            "['01 - Autumn Lords.mp3', '01 - Birds of Fire.mp3', '01 - Luminol.mp3', '01 - My Spirit Will Go On.mp3', '01 - Song Within A Song.mp3', '01 - UFO.mp3', '01 Close to the Edge I. The Solid Time of Change II. Total Mass Retain III.mp3', '01 Hortz Fur Dehn Stekehn West.mp3', '01 Jordrok.mp3', '01 Roundabout.mp3', '01. Hazard Profile Part One.mp3', '01. Vert.mp3', '01_-_ace_of_wands_320_lame_cbr.mp3', '01Al Di Meola - Flight over Rio.mp3', '01-Hocus Pocus.mp3', '01-hymn_of_the_seventh_galaxy_320_lame_cbr.mp3', '01-Sospesi Nell_Incredibile.mp3', '01-The Bryden 2-Step (For Amphibians), Pt.1.mp3', '01-The runaway.mp3', '01-Zarathustra.mp3', '02 - Arbeit Macht Frei.mp3', '02 - Odyssey.mp3', '02 Can You Understand.mp3', '02 Master Of Puppets (LP Version).mp3', '02 Scorched Earth.mp3', '02 Willie The Pimp.mp3', '02. The Road Of Bones.mp3', '02_Dogs.mp3', '03 - Suenos De Maniqui.mp3', '03. Omen.mp3', '03_Anesthetize.mp3', '03-genesis-firth_of_fifth.mp3', '03Uriah Heep - July Morning.mp3', '04 - The River Under.mp3', '04 Operation- Mindcrime.mp3', '04. Second Life Syndrome.mp3', '04_La_Villa_Strangiato_Rush_Hemispheres_Deluxe_Edition.mp3', '04Billy Cobham - Stratus.mp3', '4 Foxlight.mp3', '05 - Entree.mp3', '05 - Fatal Tragedy.mp3', '05 - Starless.mp3', '05 - Vivaldi.mp3', '05 Red Shift.mp3', '05 Soup.mp3', '05. Part V.mp3', '05_Schism.mp3', '05-Nine Feet Underground.mp3', '5 A Sprinkling Of Clouds.mp3', '06 Forgotten Sons.mp3', '06 Megalyth.mp3', '06. Anekdoten - Our Days Are Numbered.mp3', '06_Genesis_Supper_s Ready.mp3', '07 - Fool_s Overture.mp3', '07 - Zartlicher Abschied.mp3', '08 - Kingdom Of Dreams.mp3', '09. Bo Hansson - Rohans Horn - Slaget vid Pelennors slatter.mp3', '11 Bohemian Rhapsody.mp3', '12 - The Garden.mp3', '13 - A Day in the Life.mp3', '101 21st Century Schizoid Man.mp3', '105-emerson_lake_and_palmer-karn_evil_9_1st_impression_(part_1).mp3', '205 The Court Of The Crimson King.mp3', 'Eloy - Poseidon_s Creation.mp3', 'Kansas - 08 Magnum Opus a)Father Padilla Meets The Perfect Gnat b)Howling At.mp3', 'La conquista della posizione eretta.mp3', 'MIKE OLDFIELD - Part One (Tubular Bells I).mp3', '05 - The Afternoon_ a) Forever Afternoon (Tuesday_) · b) (Evening) Time to G0.mp3', 'Opeth - The Moor.mp3', 'Pain of Salvation - The Perfect Element I - 02. In the Flesh.mp3', 'Paul Gilbert - Technical Difficulties (Racer X).mp3', 'Thick As A Brick.mp3', 'Appena un poco.mp3']\n",
            "73\n",
            "73\n",
            "73\n",
            "PROG songs logged in csv file...\n"
          ],
          "name": "stdout"
        }
      ]
    }
  ]
}